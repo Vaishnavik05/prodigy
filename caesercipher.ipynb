{
  "nbformat": 4,
  "nbformat_minor": 0,
  "metadata": {
    "colab": {
      "provenance": [],
      "authorship_tag": "ABX9TyN71f0LJ17AzH0p6DI5ZOh4",
      "include_colab_link": true
    },
    "kernelspec": {
      "name": "python3",
      "display_name": "Python 3"
    },
    "language_info": {
      "name": "python"
    }
  },
  "cells": [
    {
      "cell_type": "markdown",
      "metadata": {
        "id": "view-in-github",
        "colab_type": "text"
      },
      "source": [
        "<a href=\"https://colab.research.google.com/github/Vaishnavik05/prodigy/blob/main/caesercipher.ipynb\" target=\"_parent\"><img src=\"https://colab.research.google.com/assets/colab-badge.svg\" alt=\"Open In Colab\"/></a>"
      ]
    },
    {
      "cell_type": "code",
      "execution_count": 1,
      "metadata": {
        "colab": {
          "base_uri": "https://localhost:8080/"
        },
        "id": "OQy9qJ4oPzM6",
        "outputId": "42c998c0-770d-4f32-8948-a3e652f71173"
      },
      "outputs": [
        {
          "output_type": "stream",
          "name": "stdout",
          "text": [
            "Original: Hello, World!\n",
            "Encrypted: Khoor, Zruog!\n",
            "Decrypted: Hello, World!\n"
          ]
        }
      ],
      "source": [
        "import plotly.graph_objs as go\n",
        "import plotly.offline as pyo\n",
        "from collections import Counter\n",
        "import string\n",
        "\n",
        "def plot_frequency(text, title):\n",
        "    freq = Counter(text.lower())\n",
        "    letters = [char for char in string.ascii_lowercase]\n",
        "    counts = [freq[char] for char in letters]\n",
        "\n",
        "    data = [go.Bar(x=letters, y=counts)]\n",
        "    layout = go.Layout(title=title, xaxis=dict(title='Letters'), yaxis=dict(title='Frequency'))\n",
        "    fig = go.Figure(data=data, layout=layout)\n",
        "    pyo.plot(fig, filename=f'{title.replace(\" \", \"_\").lower()}.html')\n",
        "\n",
        "def encrypt(text, shift):\n",
        "    encrypted_text = \"\"\n",
        "    for char in text:\n",
        "        if char.isalpha():\n",
        "            shift_amount = 65 if char.isupper() else 97\n",
        "            encrypted_text += chr((ord(char) + shift - shift_amount) % 26 + shift_amount)\n",
        "        else:\n",
        "            encrypted_text += char\n",
        "    return encrypted_text\n",
        "\n",
        "def decrypt(text, shift):\n",
        "    return encrypt(text, -shift)\n",
        "\n",
        "message = \"Hello, World!\"\n",
        "shift = 3\n",
        "\n",
        "encrypted_message = encrypt(message, shift)\n",
        "decrypted_message = decrypt(encrypted_message, shift)\n",
        "\n",
        "print(f\"Original: {message}\")\n",
        "print(f\"Encrypted: {encrypted_message}\")\n",
        "print(f\"Decrypted: {decrypted_message}\")\n",
        "\n",
        "plot_frequency(message, \"Original Text Frequency\")\n",
        "plot_frequency(encrypted_message, \"Encrypted Text Frequency\")"
      ]
    },
    {
      "cell_type": "code",
      "source": [
        "def encrypt(text, shift):\n",
        "    encrypted_text = \"\"\n",
        "    for char in text:\n",
        "        if char.isalpha():\n",
        "            shift_amount = 65 if char.isupper() else 97\n",
        "            encrypted_text += chr((ord(char) + shift - shift_amount) % 26 + shift_amount)\n",
        "        else:\n",
        "            encrypted_text += char\n",
        "    return encrypted_text"
      ],
      "metadata": {
        "id": "CSZFVGGoP7oV"
      },
      "execution_count": 2,
      "outputs": []
    },
    {
      "cell_type": "code",
      "source": [
        "def decrypt(text, shift):\n",
        "    return encrypt(text, -shift)"
      ],
      "metadata": {
        "id": "0vA527SOP-Dd"
      },
      "execution_count": 3,
      "outputs": []
    },
    {
      "cell_type": "code",
      "source": [
        "def get_valid_shift():\n",
        "    while True:\n",
        "        try:\n",
        "            shift = int(input(\"Enter the shift value (integer): \"))\n",
        "            return shift % 26\n",
        "        except ValueError:\n",
        "            print(\"Invalid input. Please enter an integer.\")"
      ],
      "metadata": {
        "id": "omsIxbXoQAS8"
      },
      "execution_count": 4,
      "outputs": []
    },
    {
      "cell_type": "code",
      "source": [
        "def get_message():\n",
        "    return input(\"Enter your message: \")"
      ],
      "metadata": {
        "id": "BhY4OTROQCgX"
      },
      "execution_count": 5,
      "outputs": []
    },
    {
      "cell_type": "code",
      "source": [
        "def main():\n",
        "    print(\"Welcome to the Caesar Cipher Program!\")\n",
        "    while True:\n",
        "        choice = input(\"Do you want to (e)ncrypt or (d)ecrypt a message? (q to quit): \").lower()\n",
        "        if choice == 'q':\n",
        "            break\n",
        "        elif choice in ['e', 'd']:\n",
        "            message = get_message()\n",
        "            shift = get_valid_shift()\n",
        "            if choice == 'e':\n",
        "                result = encrypt(message, shift)\n",
        "                print(f\"Encrypted Message: {result}\")\n",
        "            else:\n",
        "                result = decrypt(message, shift)\n",
        "                print(f\"Decrypted Message: {result}\")\n",
        "        else:\n",
        "            print(\"Invalid choice. Please choose 'e' for encrypt, 'd' for decrypt, or 'q' to quit.\")\n",
        "    print(\"Goodbye!\")"
      ],
      "metadata": {
        "id": "C3AWJE_GQE1x"
      },
      "execution_count": 6,
      "outputs": []
    },
    {
      "cell_type": "code",
      "source": [
        "if __name__ == \"__main__\":\n",
        "    main()"
      ],
      "metadata": {
        "colab": {
          "base_uri": "https://localhost:8080/"
        },
        "id": "pAuOoMVNQHUs",
        "outputId": "e42b4bd7-9793-41d2-d1fc-f21530a56cf3"
      },
      "execution_count": 7,
      "outputs": [
        {
          "output_type": "stream",
          "name": "stdout",
          "text": [
            "Welcome to the Caesar Cipher Program!\n",
            "Do you want to (e)ncrypt or (d)ecrypt a message? (q to quit): e\n",
            "Enter your message: hi\n",
            "Enter the shift value (integer): 2\n",
            "Encrypted Message: jk\n",
            "Do you want to (e)ncrypt or (d)ecrypt a message? (q to quit): d\n",
            "Enter your message: jk\n",
            "Enter the shift value (integer): 2\n",
            "Decrypted Message: hi\n",
            "Do you want to (e)ncrypt or (d)ecrypt a message? (q to quit): q\n",
            "Goodbye!\n"
          ]
        }
      ]
    }
  ]
}