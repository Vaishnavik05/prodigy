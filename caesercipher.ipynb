{
 "cells": [
  {
   "cell_type": "code",
   "execution_count": 1,
   "id": "f9194cf0-df3f-49f7-b5d3-5be8efd428f4",
   "metadata": {
    "tags": []
   },
   "outputs": [
    {
     "name": "stdout",
     "output_type": "stream",
     "text": [
      "Original: Hello, World!\n",
      "Encrypted: Khoor, Zruog!\n",
      "Decrypted: Hello, World!\n"
     ]
    }
   ],
   "source": [
    "import plotly.graph_objs as go\n",
    "import plotly.offline as pyo\n",
    "from collections import Counter\n",
    "import string\n",
    "\n",
    "def plot_frequency(text, title):\n",
    "    freq = Counter(text.lower())\n",
    "    letters = [char for char in string.ascii_lowercase]\n",
    "    counts = [freq[char] for char in letters]\n",
    "\n",
    "    data = [go.Bar(x=letters, y=counts)]\n",
    "    layout = go.Layout(title=title, xaxis=dict(title='Letters'), yaxis=dict(title='Frequency'))\n",
    "    fig = go.Figure(data=data, layout=layout)\n",
    "    pyo.plot(fig, filename=f'{title.replace(\" \", \"_\").lower()}.html')\n",
    "\n",
    "def encrypt(text, shift):\n",
    "    encrypted_text = \"\"\n",
    "    for char in text:\n",
    "        if char.isalpha():\n",
    "            shift_amount = 65 if char.isupper() else 97\n",
    "            encrypted_text += chr((ord(char) + shift - shift_amount) % 26 + shift_amount)\n",
    "        else:\n",
    "            encrypted_text += char\n",
    "    return encrypted_text\n",
    "\n",
    "def decrypt(text, shift):\n",
    "    return encrypt(text, -shift)\n",
    "\n",
    "message = \"Hello, World!\"\n",
    "shift = 3\n",
    "\n",
    "encrypted_message = encrypt(message, shift)\n",
    "decrypted_message = decrypt(encrypted_message, shift)\n",
    "\n",
    "print(f\"Original: {message}\")\n",
    "print(f\"Encrypted: {encrypted_message}\")\n",
    "print(f\"Decrypted: {decrypted_message}\")\n",
    "\n",
    "plot_frequency(message, \"Original Text Frequency\")\n",
    "plot_frequency(encrypted_message, \"Encrypted Text Frequency\")"
   ]
  },
  {
   "cell_type": "code",
   "execution_count": 2,
   "id": "434ef95f-1510-4a48-9b72-769ebdc511e8",
   "metadata": {
    "tags": []
   },
   "outputs": [],
   "source": [
    "def encrypt(text, shift):\n",
    "    encrypted_text = \"\"\n",
    "    for char in text:\n",
    "        if char.isalpha():\n",
    "            shift_amount = 65 if char.isupper() else 97\n",
    "            encrypted_text += chr((ord(char) + shift - shift_amount) % 26 + shift_amount)\n",
    "        else:\n",
    "            encrypted_text += char\n",
    "    return encrypted_text"
   ]
  },
  {
   "cell_type": "code",
   "execution_count": 3,
   "id": "f0f4521e-478f-44dd-919e-fd0262292a93",
   "metadata": {
    "tags": []
   },
   "outputs": [],
   "source": [
    "def decrypt(text, shift):\n",
    "    return encrypt(text, -shift)"
   ]
  },
  {
   "cell_type": "code",
   "execution_count": 4,
   "id": "6aa7ad26-432b-4c49-aa54-fc73dbffe004",
   "metadata": {
    "tags": []
   },
   "outputs": [],
   "source": [
    "def get_valid_shift():\n",
    "    while True:\n",
    "        try:\n",
    "            shift = int(input(\"Enter the shift value (integer): \"))\n",
    "            return shift % 26\n",
    "        except ValueError:\n",
    "            print(\"Invalid input. Please enter an integer.\")"
   ]
  },
  {
   "cell_type": "code",
   "execution_count": 5,
   "id": "3fd88a02-816a-429b-8ee7-ea64fc216845",
   "metadata": {
    "tags": []
   },
   "outputs": [],
   "source": [
    "def get_message():\n",
    "    return input(\"Enter your message: \")"
   ]
  },
  {
   "cell_type": "code",
   "execution_count": 6,
   "id": "643fa08a-1290-496f-a2f5-202f1631fc3f",
   "metadata": {
    "tags": []
   },
   "outputs": [],
   "source": [
    "def main():\n",
    "    print(\"Welcome to the Caesar Cipher Program!\")\n",
    "    while True:\n",
    "        choice = input(\"Do you want to (e)ncrypt or (d)ecrypt a message? (q to quit): \").lower()\n",
    "        if choice == 'q':\n",
    "            break\n",
    "        elif choice in ['e', 'd']:\n",
    "            message = get_message()\n",
    "            shift = get_valid_shift()\n",
    "            if choice == 'e':\n",
    "                result = encrypt(message, shift)\n",
    "                print(f\"Encrypted Message: {result}\")\n",
    "            else:\n",
    "                result = decrypt(message, shift)\n",
    "                print(f\"Decrypted Message: {result}\")\n",
    "        else:\n",
    "            print(\"Invalid choice. Please choose 'e' for encrypt, 'd' for decrypt, or 'q' to quit.\")\n",
    "    print(\"Goodbye!\")"
   ]
  },
  {
   "cell_type": "code",
   "execution_count": 7,
   "id": "df93885c-cbdc-40b4-bd98-38c29e528264",
   "metadata": {
    "tags": []
   },
   "outputs": [
    {
     "name": "stdout",
     "output_type": "stream",
     "text": [
      "Welcome to the Caesar Cipher Program!\n"
     ]
    },
    {
     "name": "stdin",
     "output_type": "stream",
     "text": [
      "Do you want to (e)ncrypt or (d)ecrypt a message? (q to quit):  e\n",
      "Enter your message:  hi\n",
      "Enter the shift value (integer):  2\n"
     ]
    },
    {
     "name": "stdout",
     "output_type": "stream",
     "text": [
      "Encrypted Message: jk\n"
     ]
    },
    {
     "name": "stdin",
     "output_type": "stream",
     "text": [
      "Do you want to (e)ncrypt or (d)ecrypt a message? (q to quit):  d\n",
      "Enter your message:  jk\n",
      "Enter the shift value (integer):  2\n"
     ]
    },
    {
     "name": "stdout",
     "output_type": "stream",
     "text": [
      "Decrypted Message: hi\n"
     ]
    },
    {
     "name": "stdin",
     "output_type": "stream",
     "text": [
      "Do you want to (e)ncrypt or (d)ecrypt a message? (q to quit):  q\n"
     ]
    },
    {
     "name": "stdout",
     "output_type": "stream",
     "text": [
      "Goodbye!\n"
     ]
    }
   ],
   "source": [
    "if __name__ == \"__main__\":\n",
    "    main()"
   ]
  },
  {
   "cell_type": "code",
   "execution_count": null,
   "id": "38c7b914-8e65-4ade-8fcf-b0110bd9a2dd",
   "metadata": {},
   "outputs": [],
   "source": []
  }
 ],
 "metadata": {
  "kernelspec": {
   "display_name": "Python 3 (ipykernel)",
   "language": "python",
   "name": "python3"
  },
  "language_info": {
   "codemirror_mode": {
    "name": "ipython",
    "version": 3
   },
   "file_extension": ".py",
   "mimetype": "text/x-python",
   "name": "python",
   "nbconvert_exporter": "python",
   "pygments_lexer": "ipython3",
   "version": "3.11.3"
  }
 },
 "nbformat": 4,
 "nbformat_minor": 5
}
